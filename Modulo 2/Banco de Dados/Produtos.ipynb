{
 "cells": [
  {
   "cell_type": "markdown",
   "id": "93515b20",
   "metadata": {},
   "source": [
    "# Banco de Dados"
   ]
  }
 ],
 "metadata": {
  "language_info": {
   "name": "python"
  }
 },
 "nbformat": 4,
 "nbformat_minor": 5
}
